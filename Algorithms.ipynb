{
 "cells": [
  {
   "cell_type": "markdown",
   "metadata": {},
   "source": [
    "# Algorithms\n",
    "Textbook: Introduction to Algorithms <br>\n",
    "Author: Thomas Cormen ..\n"
   ]
  },
  {
   "cell_type": "code",
   "execution_count": 2,
   "metadata": {},
   "outputs": [],
   "source": [
    "import numpy as np"
   ]
  },
  {
   "cell_type": "markdown",
   "metadata": {},
   "source": [
    "# Sorting Algorithms"
   ]
  },
  {
   "cell_type": "markdown",
   "metadata": {},
   "source": [
    "## Insertion Sort|"
   ]
  },
  {
   "cell_type": "code",
   "execution_count": 3,
   "metadata": {},
   "outputs": [
    {
     "data": {
      "text/plain": [
       "array([0, 1, 2, 3])"
      ]
     },
     "execution_count": 3,
     "metadata": {},
     "output_type": "execute_result"
    }
   ],
   "source": [
    "def insertion_sort(A):\n",
    "    # This is a sorting technique wh|ich is efficient for small amounts of numbers\n",
    "    # it takes in an array A[a1 , a2 , ... an]\n",
    "    # The sorting is done in place.\n",
    "    num = len(A)\n",
    "    for j in range(1 , num):\n",
    "        key = A[j]      # gets the value at the loc of j\n",
    "        i = j-1                 # the last position of the sorted array\n",
    "        while i >= 0 and A[i] > key:\n",
    "            A[i + 1] = A[i]\n",
    "            i = i-1 \n",
    "        A[i + 1] = key\n",
    "\n",
    "# Test the program\n",
    "x = np.array([2,3,1,0])\n",
    "insertion_sort(x)\n",
    "x"
   ]
  },
  {
   "cell_type": "markdown",
   "metadata": {},
   "source": [
    "Insertion sort has a quadratic running time, thus is ineficient as the scale of the imput increses. <br>\n",
    "<br>\n",
    "Insertion sort uses an incrimental approach. "
   ]
  },
  {
   "cell_type": "markdown",
   "metadata": {},
   "source": [
    "### Exercise 2.1-3\n",
    "Consider the searching problem: <br>\n",
    "Input: A sequence of n numbers A = \u0003a1, a2, . . . , an\u0004 and a value v. <br>\n",
    "Output: An index i such that v = A[i ] or the special value NIL if v does not\n",
    "appear in A. <br> <br>\n",
    "    Write pseudocode for linear search, which scans through the sequence, looking\n",
    "for v. Using a loop invariant, prove that your algorithm is correct. Make sure that\n",
    "your loop invariant fulfills the three necessary properties."
   ]
  },
  {
   "cell_type": "code",
   "execution_count": 4,
   "metadata": {},
   "outputs": [
    {
     "data": {
      "text/plain": [
       "[0, 3]"
      ]
     },
     "execution_count": 4,
     "metadata": {},
     "output_type": "execute_result"
    }
   ],
   "source": [
    "def linear_search(A , v):\n",
    "    # The input: A is a 1D array of numbers. v is your target item\n",
    "    num = len(A)\n",
    "    locations = []\n",
    "    for j in range( num):\n",
    "        if v == A[j]:               # check at this location\n",
    "            locations += [j]\n",
    "    if locations ==[]:\n",
    "        return None\n",
    "    else:\n",
    "        return locations\n",
    "    \n",
    "# Test the program\n",
    "x = np.array([2,3,1,2])\n",
    "linear_search(x , 2)"
   ]
  },
  {
   "cell_type": "markdown",
   "metadata": {},
   "source": [
    "## Merge Sort"
   ]
  },
  {
   "cell_type": "code",
   "execution_count": 5,
   "metadata": {},
   "outputs": [
    {
     "data": {
      "text/plain": [
       "array([ 1,  2,  2,  4,  5,  7,  3,  6,  8, 10])"
      ]
     },
     "execution_count": 5,
     "metadata": {},
     "output_type": "execute_result"
    }
   ],
   "source": [
    "def merge(A , p , q , r):\n",
    "    # This requires that the two subsets are fully sorted\n",
    "    # here, A is the array of numbers, p, q , r are indices, p <= q < r\n",
    "    # The subarray will be as follows in indices: [p ... q | ... r]\n",
    "    \n",
    "    n1 = q - p +1\n",
    "    n2 = r -q\n",
    "\n",
    "    # Create the L and R arrays according to the split defined by q\n",
    "    # add an aditional space for the sentinel\n",
    "    L = np.zeros([n1 + 1])\n",
    "    R = np.zeros([n2 + 1])\n",
    "    \n",
    "    # fill those arrays with the values in A\n",
    "    for i in range(0 , n1): \n",
    "        L[i] = A[p + i] \n",
    "  \n",
    "    for j in range(0 , n2): \n",
    "        R[j] = A[q + 1 + j] \n",
    "    \n",
    "    # add the sentinal\n",
    "    L[-1] = np.inf\n",
    "    R[-1] = np.inf\n",
    "    \n",
    "    # set\n",
    "    i = 0\n",
    "    j = 0\n",
    "    \n",
    "    for k in range(p , r + 1):\n",
    "        if L[i] <= R[j]:\n",
    "            A[k] = L[i]\n",
    "            i += 1\n",
    "        else:\n",
    "            A[k] = R[j]\n",
    "            j += 1\n",
    "\n",
    "\n",
    "# Test it out and make sure it is working properly.\n",
    "\n",
    "x = np.array([2 , 4 , 5 , 7 , 1 , 2 , 3 , 6 ,8 , 10])\n",
    "merge(x , 0 , 3 , 5)\n",
    "x\n",
    "\n"
   ]
  },
  {
   "cell_type": "code",
   "execution_count": 6,
   "metadata": {},
   "outputs": [
    {
     "name": "stdout",
     "output_type": "stream",
     "text": [
      "before ,  [24, 63, 13, 17, 85, 94, 6, 98, 58, 43, 62]\n",
      "After ,  [6.0, 13.0, 17.0, 24.0, 43.0, 58.0, 62.0, 63.0, 85.0, 94.0, 98.0]\n"
     ]
    }
   ],
   "source": [
    "\n",
    "def merge_sort(A , p , r):\n",
    "    # This program sorts an array or subarray.\n",
    "    # The subarray will be as follows in indices: [p ... q | ... r]\n",
    "    # we first split until every split is sorted (of length one)\n",
    "    if p < r :    \n",
    "        q = (p + r )//2  \n",
    "  \n",
    "        # Sort first and second halves \n",
    "        merge_sort(A, p, q)                 # use recursion \n",
    "        merge_sort(A, q + 1 , r) \n",
    "        merge(A, p, q, r)                   # Merge all fully sorted subarrays\n",
    "        \n",
    "\n",
    "# Test it out: This will sort the entire array\n",
    "x = []\n",
    "for i in range(11):\n",
    "    val = np.random.randint(0 , 100)\n",
    "    x += [val]\n",
    "print(\"before , \" , x)\n",
    "v = len(x) - 1\n",
    "merge_sort(x , 0 , v)\n",
    "print(\"After , \" , x)"
   ]
  },
  {
   "cell_type": "markdown",
   "metadata": {},
   "source": [
    "## Heap Sort"
   ]
  },
  {
   "cell_type": "markdown",
   "metadata": {},
   "source": [
    "### Heap"
   ]
  },
  {
   "cell_type": "code",
   "execution_count": 7,
   "metadata": {},
   "outputs": [],
   "source": [
    "class Binary_heap():\n",
    "    # This class is for a binary heap which maintains two properties\n",
    "    # The length of the array, and the size of the heap\n",
    "    # The heap size is less than or equal to the length of the array\n",
    "    def __init__(self, data , heap_size = None):\n",
    "        self.array = data\n",
    "        self.length = len(self.array)\n",
    "        if heap_size == None:\n",
    "            self.heap_size = len(self.array)\n",
    "        else:\n",
    "            self.heap_size = heap_size\n",
    "            \n",
    "    def get_parent(self , index):\n",
    "        # given the index of an element in the heap\n",
    "        # This function returns the index of its parent element \n",
    "        if index != 0:\n",
    "            return (index - 1 ) //2 \n",
    "        else:\n",
    "            print(\"Root node has no parent node.\")\n",
    "            return None\n",
    "\n",
    "    def get_left(self, index):\n",
    "        # given the index of an element in the heap\n",
    "        # This function returns the index of the left child node\n",
    "        return 2 * index + 1\n",
    "    \n",
    "    def get_right(self , index):\n",
    "        # given the index of an element in the heap\n",
    "        # This function returns the index of the right child node\n",
    "        return (index + 1) * 2"
   ]
  },
  {
   "cell_type": "markdown",
   "metadata": {},
   "source": [
    "### Max Heapify\n",
    "The MAX-HEAPIFY procedure, which runs in O(lg n) time, is the key to maintaining\n",
    "the max-heap property."
   ]
  },
  {
   "cell_type": "code",
   "execution_count": 27,
   "metadata": {},
   "outputs": [
    {
     "data": {
      "text/plain": [
       "array([10,  6,  9,  4,  3,  1,  8,  2,  1,  1,  1,  1,  1,  1,  9])"
      ]
     },
     "execution_count": 27,
     "metadata": {},
     "output_type": "execute_result"
    }
   ],
   "source": [
    "def max_heapify(heap , i):\n",
    "# This function is important for maintaining the max heap property (parent is greater \n",
    "# its children)\n",
    "# it takes in an Array (binary heap) and the root index for the array\n",
    "# RIGHT NOW THIS FUNCTION ONLY WORKS IF YOU START AT AN INDEX THAT VIOLATES THE MAX HEAP PROPERTY\n",
    "    r = heap.get_right(i)\n",
    "    l = heap.get_left(i)\n",
    "\n",
    "    heap_size = heap.heap_size\n",
    "    largest = i\n",
    "    Arr = heap.array\n",
    "    \n",
    "    if l < heap_size and heap.array[l] > heap.array[largest]:    # Check to see if the left side is larger\n",
    "        largest = l\n",
    "    \n",
    "    if r < heap_size and heap.array[r] > heap.array[largest]:    # Check to see if the right side is larger\n",
    "        largest = r\n",
    "\n",
    "    if largest != i:  # if you made a change, swap the values , and apply recursion.\n",
    "        heap.array[i] , heap.array[largest] = heap.array[largest] , heap.array[i]\n",
    "        max_heapify(heap , largest)\n",
    "    \n",
    "    \n",
    "# Try it out \n",
    "x = np.array([10 , 6 , 1 , 4 , 3 , 9 , 8 , 2 , 1 , 1 , 1 , 1 , 1, 1, 9])\n",
    "heap = Binary_heap(x)\n",
    "max_heapify(heap, 2)\n",
    "heap.array"
   ]
  },
  {
   "cell_type": "markdown",
   "metadata": {},
   "source": [
    "### Build Max Heap\n",
    "The BUILD-MAX-HEAP procedure, which runs in linear time, produces a maxheap\n",
    "from an unordered input array."
   ]
  },
  {
   "cell_type": "code",
   "execution_count": 29,
   "metadata": {},
   "outputs": [
    {
     "data": {
      "text/plain": [
       "array([16, 14, 10,  8,  7,  9,  3,  2,  4,  1])"
      ]
     },
     "execution_count": 29,
     "metadata": {},
     "output_type": "execute_result"
    }
   ],
   "source": [
    "def build_max_heap(heap):\n",
    "    heap.heap_size = heap.length     # set the heap size to the length of the array\n",
    "    for i in range(( heap.length //2) -1 , -1 , -1):\n",
    "        max_heapify(heap , i)\n",
    "        \n",
    "# Try it out\n",
    "x = np.array([4 , 1 , 3 , 2 , 16,  9 , 10 , 14 , 8  , 7]) \n",
    "heap = Binary_heap(x)\n",
    "build_max_heap(heap)\n",
    "heap.array"
   ]
  },
  {
   "cell_type": "markdown",
   "metadata": {},
   "source": [
    "### Heap Sort\n",
    "The HEAPSORT procedure, which runs in O(n lg n) time, sorts an array in\n",
    "place. <dir>\n",
    "    1. build a max heap\n",
    "    2. move the largest element (root) to the last position\n",
    "    3. Shrink the heap size by one\n",
    "    4. repeat"
   ]
  },
  {
   "cell_type": "code",
   "execution_count": 40,
   "metadata": {},
   "outputs": [
    {
     "data": {
      "text/plain": [
       "array([ 2,  4,  5,  7,  8, 13, 17, 20, 25])"
      ]
     },
     "execution_count": 40,
     "metadata": {},
     "output_type": "execute_result"
    }
   ],
   "source": [
    "def heap_sort(heap):\n",
    "    build_max_heap(heap)                     # build the max heap off of the entire array\n",
    "    for i in range(heap.length - 1 , 0 , -1):\n",
    "        heap.array[0] , heap.array[i] = heap.array[i] , heap.array[0]   # exchange first and last elements\n",
    "        heap.heap_size -= 1       # reduce heap size by one\n",
    "        max_heapify(heap , 0)\n",
    "        \n",
    "# Try it out\n",
    "x = np.array([5, 13, 2, 25, 7, 17, 20, 8, 4])\n",
    "heap = Binary_heap(x)\n",
    "heap_sort(heap)\n",
    "heap.array"
   ]
  },
  {
   "cell_type": "markdown",
   "metadata": {},
   "source": [
    "## Priority QUEUE\n",
    "Most popular application of a heap <br>\n",
    "A max priotiry queue has the following procedures which run in O(lg n) time: <dir>\n",
    "    * INSERT(S, x) inserts the element x into the set S. This operation could be written as S ← S ∪ {x}.\n",
    "    * MAXIMUM(S) returns the element of S with the largest key.\n",
    "    * EXTRACT-MAX(S) removes and returns the element of S with the largest key.\n",
    "    * INCREASE-KEY(S, x, k) increases the value of element x’s key to the new value k, which is assumed to be at least as large as x’s current key value. <br>\n",
    "    \n",
    "A min priority queue, often used in an event driven simulator: <dir>\n",
    "    * INSERT(S, x) \n",
    "    * Minimun(S)\n",
    "    * EXTRACT-Min(S) \n",
    "    * DECREASE-KEY(S, x, k) "
   ]
  },
  {
   "cell_type": "code",
   "execution_count": 43,
   "metadata": {},
   "outputs": [],
   "source": [
    "def heap_maximun(heap):\n",
    "    # This returns the first element in an array\n",
    "    return heap.array[0]"
   ]
  },
  {
   "cell_type": "code",
   "execution_count": 49,
   "metadata": {},
   "outputs": [
    {
     "name": "stdout",
     "output_type": "stream",
     "text": [
      "13\n"
     ]
    },
    {
     "data": {
      "text/plain": [
       "array([25,  8,  2,  5,  7, 17, 20,  4,  4])"
      ]
     },
     "execution_count": 49,
     "metadata": {},
     "output_type": "execute_result"
    }
   ],
   "source": [
    "def heap_extract_max(heap):\n",
    "    if heap.heap_size < 1:       # return an error if the heap size is zero\n",
    "        error_mess = \"heap underflow\"   \n",
    "        return(error_mess)    \n",
    "    max_val = heap.array[0]              # select the max value\n",
    "    heap.array[0] = heap.array[-1]       # push the last element to the front\n",
    "    heap.heap_size -= 1                  # reduce the heap size\n",
    "    max_heapify(heap , 0)                # rebuild the max heap\n",
    "    return max_val                       # return the max value\n",
    "\n",
    "# Try it out\n",
    "x = np.array([5, 13, 2, 25, 7, 17, 20, 8, 4])\n",
    "heap = Binary_heap(x)\n",
    "max_heapify(heap, 0)\n",
    "val = heap_extract_max(heap)\n",
    "print(val)\n",
    "heap.array"
   ]
  },
  {
   "cell_type": "code",
   "execution_count": 54,
   "metadata": {},
   "outputs": [
    {
     "name": "stdout",
     "output_type": "stream",
     "text": [
      "[16 15 10 14  7  9  3  2  8  1]\n"
     ]
    }
   ],
   "source": [
    "def heap_increase_key(heap , i , key):\n",
    "# The priority-queue element whose key is to be increased is identified by an\n",
    "# index i into the array. The procedure first updates the key of element A[i ] to its\n",
    "# new value.\n",
    "\n",
    "    if key < heap.array[i]:       # return an error if the new key is smaller\n",
    "        error_mess = \"new key is smaller than current key\"  \n",
    "        return(error_mess)  \n",
    "    heap.array[i] = key\n",
    "    while i > 0 and heap.array[heap.get_parent(i)] < heap.array[i]:\n",
    "        heap.array[i] , heap.array[heap.get_parent(i)] = heap.array[heap.get_parent(i)] , heap.array[i]   # exchange\n",
    "        i = heap.get_parent(i)\n",
    "        \n",
    "        \n",
    "# Try it out (example 6.5)\n",
    "x = np.array([16 , 14 , 10 , 8 , 7 , 9 ,3 , 2 , 4 , 1])\n",
    "heap = Binary_heap(x)\n",
    "heap_increase_key(heap , 8 , 15)  # replace 4 with 15 and run heap_increase_key\n",
    "print(heap.array)"
   ]
  },
  {
   "cell_type": "code",
   "execution_count": 83,
   "metadata": {},
   "outputs": [
    {
     "data": {
      "text/plain": [
       "array([16, 14, 10, 8, 11, 9, 3, 2, 4, 1, 7], dtype=object)"
      ]
     },
     "execution_count": 83,
     "metadata": {},
     "output_type": "execute_result"
    }
   ],
   "source": [
    "def max_heap_insert(heap , key):\n",
    "    heap.heap_size += 1      # need to make room for one more element\n",
    "    heap.length += 1\n",
    "    heap.array = np.append(heap.array , 0)\n",
    "    last_element_of_heap = heap.heap_size - 1\n",
    "    heap.array[last_element_of_heap] = np.NINF     # make last element of heap -inf\n",
    "    heap_increase_key(heap, last_element_of_heap , key )\n",
    "\n",
    "# Try it out ( again using the tree from example 6.5)\n",
    "x = np.array([16 , 14 , 10 , 8 , 7 , 9 ,3 , 2 , 4 , 1] ,dtype = object)\n",
    "heap = Binary_heap(x)\n",
    "max_heap_insert(heap , 11)\n",
    "heap.array"
   ]
  },
  {
   "cell_type": "markdown",
   "metadata": {},
   "source": [
    "## Quicksort\n",
    "in practice quicksort often outperforms heap sort <br>\n",
    "* Divide: Partition (rearrange) the array A[p . . r] into two (possibly empty) subarrays\n",
    "A[p . . q −1] and A[q +1 . . r] such that each element of A[p . . q −1] is\n",
    "less than or equal to A[q], which is, in turn, less than or equal to each element\n",
    "of A[q + 1 . . r]. Compute the index q as part of this partitioning procedure.\n",
    "* Conquer: Sort the two subarrays A[p . . q−1] and A[q +1 . . r] by recursive calls\n",
    "to quicksort.\n",
    "* Combine: Since the subarrays are sorted in place, no work is needed to combine\n",
    "them: the entire array A[p . . r] is now sorted."
   ]
  },
  {
   "cell_type": "markdown",
   "metadata": {},
   "source": [
    "#### Partitoning the array"
   ]
  },
  {
   "cell_type": "code",
   "execution_count": 124,
   "metadata": {},
   "outputs": [
    {
     "name": "stdout",
     "output_type": "stream",
     "text": [
      "[ 5  2  7  8  4  9 20 13 25 17]\n"
     ]
    }
   ],
   "source": [
    "def partition(A , p , r):\n",
    "    # rearange the subaray A[p . . r] in place.\n",
    "    # final result [vals < A[p] , A[p] ,  vals > A[p] ]\n",
    "    x = A[r]\n",
    "    i = p - 1\n",
    "    for j in range(p , r): \n",
    "        if A[j] <= x:\n",
    "            i += 1\n",
    "            A[i] , A[j] = A[j] , A[i]\n",
    "    A[i +1] , A[r] = A[r] , A[i + 1]\n",
    "    return(i + 1)\n",
    "\n",
    "# Try it out       \n",
    "x = np.array([5, 13, 2, 7 , 25, 17, 20, 8, 4 , 9])\n",
    "partition(x , 0, 9)\n",
    "print(x)\n"
   ]
  },
  {
   "cell_type": "code",
   "execution_count": 125,
   "metadata": {},
   "outputs": [
    {
     "name": "stdout",
     "output_type": "stream",
     "text": [
      "[ 2  4  5  7  8  9 13 17 20 25]\n"
     ]
    }
   ],
   "source": [
    "def quick_sort(A , p , r ):\n",
    "# To sort an entire array A, the initial call is QUICKSORT(A, 0, length[A] - 1)\n",
    "    if p < r:\n",
    "        q = partition(A , p , r) \n",
    "        quick_sort(A, p,  q - 1)\n",
    "        quick_sort(A, q + 1, r)\n",
    "        \n",
    "# Try it out       \n",
    "x = np.array([5, 13, 2, 7, 25,  17, 20, 8, 4 , 9])\n",
    "quick_sort(x , 0 , 9)\n",
    "print(x)"
   ]
  },
  {
   "cell_type": "markdown",
   "metadata": {},
   "source": [
    "### Randomized Quicksort\n",
    "we can sometimes add randomization to an algorithm in order to obtain good average-case performance over all inputs. Many people regard the resulting randomized version of quicksort as the sorting algorithm of choice for large enough inputs.\n"
   ]
  },
  {
   "cell_type": "code",
   "execution_count": 126,
   "metadata": {},
   "outputs": [],
   "source": [
    "def randomized_partition(A , p , r):\n",
    "    pass"
   ]
  },
  {
   "cell_type": "code",
   "execution_count": 129,
   "metadata": {},
   "outputs": [],
   "source": [
    "def randomized_quick_sort(A , p , r):\n",
    "# To sort an entire array A, the initial call is QUICKSORT(A, 0, length[A] - 1)\n",
    "# only difference from quicksort is the use of randomized_partition\n",
    "    if p < r:\n",
    "        q = randomized_partition(A , p , r) \n",
    "        randomized_quick_sort(A, p,  q - 1)\n",
    "        randomized_quick_sort(A, q + 1, r)"
   ]
  },
  {
   "cell_type": "code",
   "execution_count": null,
   "metadata": {},
   "outputs": [],
   "source": []
  }
 ],
 "metadata": {
  "kernelspec": {
   "display_name": "Python 3",
   "language": "python",
   "name": "python3"
  },
  "language_info": {
   "codemirror_mode": {
    "name": "ipython",
    "version": 3
   },
   "file_extension": ".py",
   "mimetype": "text/x-python",
   "name": "python",
   "nbconvert_exporter": "python",
   "pygments_lexer": "ipython3",
   "version": "3.7.7"
  }
 },
 "nbformat": 4,
 "nbformat_minor": 4
}
