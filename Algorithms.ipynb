{
 "cells": [
  {
   "cell_type": "markdown",
   "metadata": {},
   "source": [
    "# Algorithms\n",
    "Textbook: Introduction to Algorithms <br>\n",
    "Author: Thomas Cormen ..\n"
   ]
  },
  {
   "cell_type": "code",
   "execution_count": 9,
   "metadata": {},
   "outputs": [],
   "source": [
    "import numpy as np"
   ]
  },
  {
   "cell_type": "markdown",
   "metadata": {},
   "source": [
    "# Part II Sorting Algorithms"
   ]
  },
  {
   "cell_type": "markdown",
   "metadata": {},
   "source": [
    "## Comparison Sorts\n",
    "the sorted order they determine\n",
    "is based only on comparisons between the input elements."
   ]
  },
  {
   "cell_type": "markdown",
   "metadata": {},
   "source": [
    "## Insertion Sort|"
   ]
  },
  {
   "cell_type": "code",
   "execution_count": 10,
   "metadata": {},
   "outputs": [
    {
     "data": {
      "text/plain": [
       "array([0, 1, 2, 3])"
      ]
     },
     "execution_count": 10,
     "metadata": {},
     "output_type": "execute_result"
    }
   ],
   "source": [
    "def insertion_sort(A):\n",
    "    # This is a sorting technique wh|ich is efficient for small amounts of numbers\n",
    "    # it takes in an array A[a1 , a2 , ... an]\n",
    "    # The sorting is done in place.\n",
    "    num = len(A)\n",
    "    for j in range(1 , num):\n",
    "        key = A[j]      # gets the value at the loc of j\n",
    "        i = j-1                 # the last position of the sorted array\n",
    "        while i >= 0 and A[i] > key:\n",
    "            A[i + 1] = A[i]\n",
    "            i = i-1 \n",
    "        A[i + 1] = key\n",
    "\n",
    "# Test the program\n",
    "x = np.array([2,3,1,0])\n",
    "insertion_sort(x)\n",
    "x"
   ]
  },
  {
   "cell_type": "markdown",
   "metadata": {},
   "source": [
    "Insertion sort has a quadratic running time, thus is ineficient as the scale of the imput increses. <br>\n",
    "<br>\n",
    "Insertion sort uses an incrimental approach. "
   ]
  },
  {
   "cell_type": "markdown",
   "metadata": {},
   "source": [
    "### Exercise 2.1-3\n",
    "Consider the searching problem: <br>\n",
    "Input: A sequence of n numbers A = \u0003a1, a2, . . . , an\u0004 and a value v. <br>\n",
    "Output: An index i such that v = A[i ] or the special value NIL if v does not\n",
    "appear in A. <br> <br>\n",
    "    Write pseudocode for linear search, which scans through the sequence, looking\n",
    "for v. Using a loop invariant, prove that your algorithm is correct. Make sure that\n",
    "your loop invariant fulfills the three necessary properties."
   ]
  },
  {
   "cell_type": "code",
   "execution_count": 11,
   "metadata": {},
   "outputs": [
    {
     "data": {
      "text/plain": [
       "[0, 3]"
      ]
     },
     "execution_count": 11,
     "metadata": {},
     "output_type": "execute_result"
    }
   ],
   "source": [
    "def linear_search(A , v):\n",
    "    # The input: A is a 1D array of numbers. v is your target item\n",
    "    num = len(A)\n",
    "    locations = []\n",
    "    for j in range( num):\n",
    "        if v == A[j]:               # check at this location\n",
    "            locations += [j]\n",
    "    if locations ==[]:\n",
    "        return None\n",
    "    else:\n",
    "        return locations\n",
    "    \n",
    "# Test the program\n",
    "x = np.array([2,3,1,2])\n",
    "linear_search(x , 2)"
   ]
  },
  {
   "cell_type": "markdown",
   "metadata": {},
   "source": [
    "## Merge Sort"
   ]
  },
  {
   "cell_type": "code",
   "execution_count": 12,
   "metadata": {},
   "outputs": [
    {
     "data": {
      "text/plain": [
       "array([ 1,  2,  2,  4,  5,  7,  3,  6,  8, 10])"
      ]
     },
     "execution_count": 12,
     "metadata": {},
     "output_type": "execute_result"
    }
   ],
   "source": [
    "def merge(A , p , q , r):\n",
    "    # This requires that the two subsets are fully sorted\n",
    "    # here, A is the array of numbers, p, q , r are indices, p <= q < r\n",
    "    # The subarray will be as follows in indices: [p ... q | ... r]\n",
    "    \n",
    "    n1 = q - p +1\n",
    "    n2 = r -q\n",
    "\n",
    "    # Create the L and R arrays according to the split defined by q\n",
    "    # add an aditional space for the sentinel\n",
    "    L = np.zeros([n1 + 1])\n",
    "    R = np.zeros([n2 + 1])\n",
    "    \n",
    "    # fill those arrays with the values in A\n",
    "    for i in range(0 , n1): \n",
    "        L[i] = A[p + i] \n",
    "  \n",
    "    for j in range(0 , n2): \n",
    "        R[j] = A[q + 1 + j] \n",
    "    \n",
    "    # add the sentinal\n",
    "    L[-1] = np.inf\n",
    "    R[-1] = np.inf\n",
    "    \n",
    "    # set\n",
    "    i = 0\n",
    "    j = 0\n",
    "    \n",
    "    for k in range(p , r + 1):\n",
    "        if L[i] <= R[j]:\n",
    "            A[k] = L[i]\n",
    "            i += 1\n",
    "        else:\n",
    "            A[k] = R[j]\n",
    "            j += 1\n",
    "\n",
    "\n",
    "# Test it out and make sure it is working properly.\n",
    "\n",
    "x = np.array([2 , 4 , 5 , 7 , 1 , 2 , 3 , 6 ,8 , 10])\n",
    "merge(x , 0 , 3 , 5)\n",
    "x\n",
    "\n"
   ]
  },
  {
   "cell_type": "code",
   "execution_count": 13,
   "metadata": {},
   "outputs": [
    {
     "name": "stdout",
     "output_type": "stream",
     "text": [
      "before ,  [48, 37, 9, 96, 27, 81, 93, 62, 74, 20, 76]\n",
      "After ,  [9.0, 20.0, 27.0, 37.0, 48.0, 62.0, 74.0, 76.0, 81.0, 93.0, 96.0]\n"
     ]
    }
   ],
   "source": [
    "\n",
    "def merge_sort(A , p , r):\n",
    "    # This program sorts an array or subarray.\n",
    "    # The subarray will be as follows in indices: [p ... q | ... r]\n",
    "    # we first split until every split is sorted (of length one)\n",
    "    if p < r :    \n",
    "        q = (p + r )//2  \n",
    "  \n",
    "        # Sort first and second halves \n",
    "        merge_sort(A, p, q)                 # use recursion \n",
    "        merge_sort(A, q + 1 , r) \n",
    "        merge(A, p, q, r)                   # Merge all fully sorted subarrays\n",
    "        \n",
    "\n",
    "# Test it out: This will sort the entire array\n",
    "x = []\n",
    "for i in range(11):\n",
    "    val = np.random.randint(0 , 100)\n",
    "    x += [val]\n",
    "print(\"before , \" , x)\n",
    "v = len(x) - 1\n",
    "merge_sort(x , 0 , v)\n",
    "print(\"After , \" , x)"
   ]
  },
  {
   "cell_type": "markdown",
   "metadata": {},
   "source": [
    "## Heap Sort"
   ]
  },
  {
   "cell_type": "markdown",
   "metadata": {},
   "source": [
    "### Heap"
   ]
  },
  {
   "cell_type": "code",
   "execution_count": 14,
   "metadata": {},
   "outputs": [],
   "source": [
    "class Binary_heap():\n",
    "    # This class is for a binary heap which maintains two properties\n",
    "    # The length of the array, and the size of the heap\n",
    "    # The heap size is less than or equal to the length of the array\n",
    "    def __init__(self, data , heap_size = None):\n",
    "        self.array = data\n",
    "        self.length = len(self.array)\n",
    "        if heap_size == None:\n",
    "            self.heap_size = len(self.array)\n",
    "        else:\n",
    "            self.heap_size = heap_size\n",
    "            \n",
    "    def get_parent(self , index):\n",
    "        # given the index of an element in the heap\n",
    "        # This function returns the index of its parent element \n",
    "        if index != 0:\n",
    "            return (index - 1 ) //2 \n",
    "        else:\n",
    "            print(\"Root node has no parent node.\")\n",
    "            return None\n",
    "\n",
    "    def get_left(self, index):\n",
    "        # given the index of an element in the heap\n",
    "        # This function returns the index of the left child node\n",
    "        return 2 * index + 1\n",
    "    \n",
    "    def get_right(self , index):\n",
    "        # given the index of an element in the heap\n",
    "        # This function returns the index of the right child node\n",
    "        return (index + 1) * 2"
   ]
  },
  {
   "cell_type": "markdown",
   "metadata": {},
   "source": [
    "### Max Heapify\n",
    "The MAX-HEAPIFY procedure, which runs in O(lg n) time, is the key to maintaining\n",
    "the max-heap property."
   ]
  },
  {
   "cell_type": "code",
   "execution_count": 15,
   "metadata": {},
   "outputs": [
    {
     "data": {
      "text/plain": [
       "array([10,  6,  9,  4,  3,  1,  8,  2,  1,  1,  1,  1,  1,  1,  9])"
      ]
     },
     "execution_count": 15,
     "metadata": {},
     "output_type": "execute_result"
    }
   ],
   "source": [
    "def max_heapify(heap , i):\n",
    "# This function is important for maintaining the max heap property (parent is greater \n",
    "# its children)\n",
    "# it takes in an Array (binary heap) and the root index for the array\n",
    "# RIGHT NOW THIS FUNCTION ONLY WORKS IF YOU START AT AN INDEX THAT VIOLATES THE MAX HEAP PROPERTY\n",
    "    r = heap.get_right(i)\n",
    "    l = heap.get_left(i)\n",
    "\n",
    "    heap_size = heap.heap_size\n",
    "    largest = i\n",
    "    Arr = heap.array\n",
    "    \n",
    "    if l < heap_size and heap.array[l] > heap.array[largest]:    # Check to see if the left side is larger\n",
    "        largest = l\n",
    "    \n",
    "    if r < heap_size and heap.array[r] > heap.array[largest]:    # Check to see if the right side is larger\n",
    "        largest = r\n",
    "\n",
    "    if largest != i:  # if you made a change, swap the values , and apply recursion.\n",
    "        heap.array[i] , heap.array[largest] = heap.array[largest] , heap.array[i]\n",
    "        max_heapify(heap , largest)\n",
    "    \n",
    "    \n",
    "# Try it out \n",
    "x = np.array([10 , 6 , 1 , 4 , 3 , 9 , 8 , 2 , 1 , 1 , 1 , 1 , 1, 1, 9])\n",
    "heap = Binary_heap(x)\n",
    "max_heapify(heap, 2)\n",
    "heap.array"
   ]
  },
  {
   "cell_type": "markdown",
   "metadata": {},
   "source": [
    "### Build Max Heap\n",
    "The BUILD-MAX-HEAP procedure, which runs in linear time, produces a maxheap\n",
    "from an unordered input array."
   ]
  },
  {
   "cell_type": "code",
   "execution_count": 16,
   "metadata": {},
   "outputs": [
    {
     "data": {
      "text/plain": [
       "array([16, 14, 10,  8,  7,  9,  3,  2,  4,  1])"
      ]
     },
     "execution_count": 16,
     "metadata": {},
     "output_type": "execute_result"
    }
   ],
   "source": [
    "def build_max_heap(heap):\n",
    "    heap.heap_size = heap.length     # set the heap size to the length of the array\n",
    "    for i in range(( heap.length //2) -1 , -1 , -1):\n",
    "        max_heapify(heap , i)\n",
    "        \n",
    "# Try it out\n",
    "x = np.array([4 , 1 , 3 , 2 , 16,  9 , 10 , 14 , 8  , 7]) \n",
    "heap = Binary_heap(x)\n",
    "build_max_heap(heap)\n",
    "heap.array"
   ]
  },
  {
   "cell_type": "markdown",
   "metadata": {},
   "source": [
    "### Heap Sort\n",
    "The HEAPSORT procedure, which runs in O(n lg n) time, sorts an array in\n",
    "place. <dir>\n",
    "    1. build a max heap\n",
    "    2. move the largest element (root) to the last position\n",
    "    3. Shrink the heap size by one\n",
    "    4. repeat"
   ]
  },
  {
   "cell_type": "code",
   "execution_count": 17,
   "metadata": {},
   "outputs": [
    {
     "data": {
      "text/plain": [
       "array([ 2,  4,  5,  7,  8, 13, 17, 20, 25])"
      ]
     },
     "execution_count": 17,
     "metadata": {},
     "output_type": "execute_result"
    }
   ],
   "source": [
    "def heap_sort(heap):\n",
    "    build_max_heap(heap)                     # build the max heap off of the entire array\n",
    "    for i in range(heap.length - 1 , 0 , -1):\n",
    "        heap.array[0] , heap.array[i] = heap.array[i] , heap.array[0]   # exchange first and last elements\n",
    "        heap.heap_size -= 1       # reduce heap size by one\n",
    "        max_heapify(heap , 0)\n",
    "        \n",
    "# Try it out\n",
    "x = np.array([5, 13, 2, 25, 7, 17, 20, 8, 4])\n",
    "heap = Binary_heap(x)\n",
    "heap_sort(heap)\n",
    "heap.array"
   ]
  },
  {
   "cell_type": "markdown",
   "metadata": {},
   "source": [
    "## Priority QUEUE\n",
    "Most popular application of a heap <br>\n",
    "A max priotiry queue has the following procedures which run in O(lg n) time: <dir>\n",
    "    * INSERT(S, x) inserts the element x into the set S. This operation could be written as S ← S ∪ {x}.\n",
    "    * MAXIMUM(S) returns the element of S with the largest key.\n",
    "    * EXTRACT-MAX(S) removes and returns the element of S with the largest key.\n",
    "    * INCREASE-KEY(S, x, k) increases the value of element x’s key to the new value k, which is assumed to be at least as large as x’s current key value. <br>\n",
    "    \n",
    "A min priority queue, often used in an event driven simulator: <dir>\n",
    "    * INSERT(S, x) \n",
    "    * Minimun(S)\n",
    "    * EXTRACT-Min(S) \n",
    "    * DECREASE-KEY(S, x, k) "
   ]
  },
  {
   "cell_type": "code",
   "execution_count": 18,
   "metadata": {},
   "outputs": [],
   "source": [
    "def heap_maximun(heap):\n",
    "    # This returns the first element in an array\n",
    "    return heap.array[0]"
   ]
  },
  {
   "cell_type": "code",
   "execution_count": 19,
   "metadata": {},
   "outputs": [
    {
     "name": "stdout",
     "output_type": "stream",
     "text": [
      "13\n"
     ]
    },
    {
     "data": {
      "text/plain": [
       "array([25,  8,  2,  5,  7, 17, 20,  4,  4])"
      ]
     },
     "execution_count": 19,
     "metadata": {},
     "output_type": "execute_result"
    }
   ],
   "source": [
    "def heap_extract_max(heap):\n",
    "    if heap.heap_size < 1:       # return an error if the heap size is zero\n",
    "        error_mess = \"heap underflow\"   \n",
    "        return(error_mess)    \n",
    "    max_val = heap.array[0]              # select the max value\n",
    "    heap.array[0] = heap.array[-1]       # push the last element to the front\n",
    "    heap.heap_size -= 1                  # reduce the heap size\n",
    "    max_heapify(heap , 0)                # rebuild the max heap\n",
    "    return max_val                       # return the max value\n",
    "\n",
    "# Try it out\n",
    "x = np.array([5, 13, 2, 25, 7, 17, 20, 8, 4])\n",
    "heap = Binary_heap(x)\n",
    "max_heapify(heap, 0)\n",
    "val = heap_extract_max(heap)\n",
    "print(val)\n",
    "heap.array"
   ]
  },
  {
   "cell_type": "code",
   "execution_count": 20,
   "metadata": {},
   "outputs": [
    {
     "name": "stdout",
     "output_type": "stream",
     "text": [
      "[16 15 10 14  7  9  3  2  8  1]\n"
     ]
    }
   ],
   "source": [
    "def heap_increase_key(heap , i , key):\n",
    "# The priority-queue element whose key is to be increased is identified by an\n",
    "# index i into the array. The procedure first updates the key of element A[i ] to its\n",
    "# new value.\n",
    "\n",
    "    if key < heap.array[i]:       # return an error if the new key is smaller\n",
    "        error_mess = \"new key is smaller than current key\"  \n",
    "        return(error_mess)  \n",
    "    heap.array[i] = key\n",
    "    while i > 0 and heap.array[heap.get_parent(i)] < heap.array[i]:\n",
    "        heap.array[i] , heap.array[heap.get_parent(i)] = heap.array[heap.get_parent(i)] , heap.array[i]   # exchange\n",
    "        i = heap.get_parent(i)\n",
    "        \n",
    "        \n",
    "# Try it out (example 6.5)\n",
    "x = np.array([16 , 14 , 10 , 8 , 7 , 9 ,3 , 2 , 4 , 1])\n",
    "heap = Binary_heap(x)\n",
    "heap_increase_key(heap , 8 , 15)  # replace 4 with 15 and run heap_increase_key\n",
    "print(heap.array)"
   ]
  },
  {
   "cell_type": "code",
   "execution_count": 21,
   "metadata": {},
   "outputs": [
    {
     "data": {
      "text/plain": [
       "array([16, 14, 10, 8, 11, 9, 3, 2, 4, 1, 7], dtype=object)"
      ]
     },
     "execution_count": 21,
     "metadata": {},
     "output_type": "execute_result"
    }
   ],
   "source": [
    "def max_heap_insert(heap , key):\n",
    "    heap.heap_size += 1      # need to make room for one more element\n",
    "    heap.length += 1\n",
    "    heap.array = np.append(heap.array , 0)\n",
    "    last_element_of_heap = heap.heap_size - 1\n",
    "    heap.array[last_element_of_heap] = np.NINF     # make last element of heap -inf\n",
    "    heap_increase_key(heap, last_element_of_heap , key )\n",
    "\n",
    "# Try it out ( again using the tree from example 6.5)\n",
    "x = np.array([16 , 14 , 10 , 8 , 7 , 9 ,3 , 2 , 4 , 1] ,dtype = object)\n",
    "heap = Binary_heap(x)\n",
    "max_heap_insert(heap , 11)\n",
    "heap.array"
   ]
  },
  {
   "cell_type": "markdown",
   "metadata": {},
   "source": [
    "## Quicksort\n",
    "in practice quicksort often outperforms heap sort <br>\n",
    "* Divide: Partition (rearrange) the array A[p . . r] into two (possibly empty) subarrays\n",
    "A[p . . q −1] and A[q +1 . . r] such that each element of A[p . . q −1] is\n",
    "less than or equal to A[q], which is, in turn, less than or equal to each element\n",
    "of A[q + 1 . . r]. Compute the index q as part of this partitioning procedure.\n",
    "* Conquer: Sort the two subarrays A[p . . q−1] and A[q +1 . . r] by recursive calls\n",
    "to quicksort.\n",
    "* Combine: Since the subarrays are sorted in place, no work is needed to combine\n",
    "them: the entire array A[p . . r] is now sorted."
   ]
  },
  {
   "cell_type": "markdown",
   "metadata": {},
   "source": [
    "#### Partitoning the array"
   ]
  },
  {
   "cell_type": "code",
   "execution_count": 22,
   "metadata": {},
   "outputs": [
    {
     "name": "stdout",
     "output_type": "stream",
     "text": [
      "[ 5  2  7  8  4  9 20 13 25 17]\n"
     ]
    }
   ],
   "source": [
    "def partition(A , p , r):\n",
    "    # rearange the subaray A[p . . r] in place.\n",
    "    # final result [vals < A[p] , A[p] ,  vals > A[p] ]\n",
    "    x = A[r]\n",
    "    i = p - 1\n",
    "    for j in range(p , r): \n",
    "        if A[j] <= x:\n",
    "            i += 1\n",
    "            A[i] , A[j] = A[j] , A[i]\n",
    "    A[i +1] , A[r] = A[r] , A[i + 1]\n",
    "    return(i + 1)\n",
    "\n",
    "# Try it out       \n",
    "x = np.array([5, 13, 2, 7 , 25, 17, 20, 8, 4 , 9])\n",
    "partition(x , 0, 9)\n",
    "print(x)\n"
   ]
  },
  {
   "cell_type": "code",
   "execution_count": 23,
   "metadata": {},
   "outputs": [
    {
     "name": "stdout",
     "output_type": "stream",
     "text": [
      "[ 2  4  5  7  8  9 13 17 20 25]\n"
     ]
    }
   ],
   "source": [
    "def quick_sort(A , p , r ):\n",
    "# To sort an entire array A, the initial call is QUICKSORT(A, 0, length[A] - 1)\n",
    "    if p < r:\n",
    "        q = partition(A , p , r) \n",
    "        quick_sort(A, p,  q - 1)\n",
    "        quick_sort(A, q + 1, r)\n",
    "        \n",
    "# Try it out       \n",
    "x = np.array([5, 13, 2, 7, 25,  17, 20, 8, 4 , 9])\n",
    "quick_sort(x , 0 , 9)\n",
    "print(x)"
   ]
  },
  {
   "cell_type": "markdown",
   "metadata": {},
   "source": [
    "### Randomized Quicksort\n",
    "we can sometimes add randomization to an algorithm in order to obtain good average-case performance over all inputs. Many people regard the resulting randomized version of quicksort as the sorting algorithm of choice for large enough inputs.\n"
   ]
  },
  {
   "cell_type": "code",
   "execution_count": 24,
   "metadata": {},
   "outputs": [],
   "source": [
    "def randomized_partition(A , p , r):\n",
    "    i = np.random.randint(p , r)\n",
    "    A[i] , A[r] = A[r] , A[i]\n",
    "    return partition(A , p , r)"
   ]
  },
  {
   "cell_type": "code",
   "execution_count": 25,
   "metadata": {},
   "outputs": [
    {
     "name": "stdout",
     "output_type": "stream",
     "text": [
      "[ 2  4  5  7  8  9 13 17 20 25]\n"
     ]
    }
   ],
   "source": [
    "def randomized_quick_sort(A , p , r):\n",
    "# To sort an entire array A, the initial call is QUICKSORT(A, 0, length[A] - 1)\n",
    "# only difference from quicksort is the use of randomized_partition\n",
    "    if p < r:\n",
    "        q = randomized_partition(A , p , r) \n",
    "        randomized_quick_sort(A, p,  q - 1)\n",
    "        randomized_quick_sort(A, q + 1, r)\n",
    "\n",
    "# Try it out       \n",
    "x = np.array([5, 13, 2, 7, 25,  17, 20, 8, 4 , 9])\n",
    "randomized_quick_sort(x , 0 , 9)\n",
    "print(x)"
   ]
  },
  {
   "cell_type": "markdown",
   "metadata": {},
   "source": [
    "## Sorting in Linear Time\n",
    "These sorting methods will not be comparison based"
   ]
  },
  {
   "cell_type": "markdown",
   "metadata": {},
   "source": [
    "## Counting Sort\n",
    "This a stable sorting method which operates in linear time. <br>\n",
    "Stable:numbers with the same value appear in the output array in the same order as they do in the input array.  <br>\n",
    "Counting sort is often used as a subroutine in radix sort "
   ]
  },
  {
   "cell_type": "code",
   "execution_count": 55,
   "metadata": {},
   "outputs": [
    {
     "name": "stdout",
     "output_type": "stream",
     "text": [
      "[0 0 2 2 3 3 3 5]\n"
     ]
    }
   ],
   "source": [
    "def counting_sort(A  , k):\n",
    "    # k is the maximum value of A\n",
    "    B = np.zeros(len(A) , dtype = int)\n",
    "    C = np.zeros(k+1 ,dtype=int)\n",
    "    for j in range(0 , len(A) ):\n",
    "        C[A[j]] = C[A[j]] + 1        # keep track of the instances for each number\n",
    "        \n",
    "    for i in range(1 , k+1):\n",
    "        C[i] = C[i] + C[i - 1]    # C[i] is the number of elements equal to or less than i\n",
    "    \n",
    "    for j in range(len(A) - 1 ,-1 , -1):\n",
    "        B[C[A[j]] - 1] = A[j]\n",
    "        C[A[j]] = C[A[j]] - 1\n",
    "    \n",
    "    return B\n",
    "\n",
    "# Try it out\n",
    "x = np.array([2 , 5 , 3 , 0 , 2 , 3 , 0 , 3])\n",
    "\n",
    "v = counting_sort(x  , 5)\n",
    "print(v)"
   ]
  },
  {
   "cell_type": "markdown",
   "metadata": {},
   "source": [
    "### Counting Sort for Radix Subroutine"
   ]
  },
  {
   "cell_type": "code",
   "execution_count": 56,
   "metadata": {},
   "outputs": [
    {
     "name": "stdout",
     "output_type": "stream",
     "text": [
      "[  0 113 200 222 220 233 313 521]\n"
     ]
    }
   ],
   "source": [
    "def counting_sort_subr(A ,k , digit = 1):\n",
    "    B = np.zeros(len(A) , dtype = int)\n",
    "    C = np.zeros(k+1 ,dtype=int)\n",
    "    for j in range(0 , len(A) ):\n",
    "        num = get_digit(A[j], digit)\n",
    "        C[num] = C[num] + 1        # keep track of the instances for each number\n",
    "    for i in range(1 , k+1):\n",
    "        C[i] = C[i] + C[i - 1]    # C[i] is the number of elements equal to or less than i\n",
    "    \n",
    "    for j in range(len(A) - 1 ,-1 , -1):\n",
    "        num = get_digit(A[j], digit)\n",
    "        B[C[num] - 1] = A[j]\n",
    "        C[num] = C[num] - 1\n",
    "    \n",
    "    return B\n",
    "\n",
    "\n",
    "# Try it out\n",
    "x = np.array([200 , 521 , 313 , 0 , 222 , 113 , 220 , 233])\n",
    "B = np.zeros(len(x) , dtype = int)\n",
    "\n",
    "print(counting_sort_subr(x , 9 , 3) )"
   ]
  },
  {
   "cell_type": "markdown",
   "metadata": {},
   "source": [
    "## Radix Sort\n",
    "For now this will only work for integers. If you want to extend this to floating point numbers, you simply need to adjust the get_digit function such that it starts with the digitis past the decimal point"
   ]
  },
  {
   "cell_type": "code",
   "execution_count": 28,
   "metadata": {},
   "outputs": [
    {
     "data": {
      "text/plain": [
       "array([  0, 113, 200, 220, 222, 233, 313, 521])"
      ]
     },
     "execution_count": 28,
     "metadata": {},
     "output_type": "execute_result"
    }
   ],
   "source": [
    "def get_digit(number, n):\n",
    "    return int(number // 10**(n - 1) % 10 )\n",
    "\n",
    "def radix_sort(A , d):\n",
    "    # d is the number of digits for the numbers in the array A\n",
    "    for i in range(1 , d + 1  ):\n",
    "        A = counting_sort_subr(A , 9 , i)\n",
    "    \n",
    "    return A\n",
    "# Try it out\n",
    "x = np.array([200 , 521 , 313 , 0 , 222 , 113 , 220 , 233])\n",
    "\n",
    "radix_sort(x , 3)\n"
   ]
  },
  {
   "cell_type": "markdown",
   "metadata": {},
   "source": [
    "## Bucket Sort"
   ]
  },
  {
   "cell_type": "code",
   "execution_count": null,
   "metadata": {},
   "outputs": [],
   "source": []
  },
  {
   "cell_type": "code",
   "execution_count": null,
   "metadata": {},
   "outputs": [],
   "source": []
  },
  {
   "cell_type": "markdown",
   "metadata": {},
   "source": [
    "## Medians and Order Statistics\n",
    "\n",
    "### The selection problem \n",
    "* Input: A set A of n (distinct) numbers and a number i , with 1 ≤ i ≤ n.\n",
    "* Output: The element x ∈ A that is larger than exactly i − 1 other elements of A."
   ]
  },
  {
   "cell_type": "code",
   "execution_count": 29,
   "metadata": {},
   "outputs": [
    {
     "name": "stdout",
     "output_type": "stream",
     "text": [
      "The minimum and maximum values are:  0  ,  11\n"
     ]
    }
   ],
   "source": [
    "def min_max(arr): \n",
    "    # this function takes in an array of numbers and returns the min , max\n",
    "    minimum = arr[0]\n",
    "    maximum = arr[0]\n",
    "    \n",
    "    # evaluate the elements in pairs. instead of 2 comparisons per element, we do 3 comaparisons for each pair\n",
    "    for i in range(1 , len(arr) //2 + 1):\n",
    "        if (2 * i) == len(arr):               # if only one left\n",
    "            if maximum < arr[2 * i - 1]:    # check max\n",
    "                maximum = arr[2 * i - 1]\n",
    "            if minimum > arr[2 * i - 1]:    # check min\n",
    "                minimum = arr[2 * i - 1]\n",
    "        else:\n",
    "            larger = 2 * i - 1\n",
    "            smaller = 2 * i \n",
    "            if arr[i] < arr[i + 1]:      # comparison 1 - items to themselves\n",
    "                larger = i + 1\n",
    "                smaller = i\n",
    "\n",
    "            if maximum < arr[larger]:    # comparison 2 - larger item to maximum\n",
    "                maximum = arr[larger] \n",
    "\n",
    "            if minimum > arr[smaller]:\n",
    "                minimum = arr[smaller]   # comparison three - smaller item to minimum\n",
    "    return minimum , maximum\n",
    "\n",
    "# Try it out\n",
    "x = np.array([2 , 4 , 6 , 7 , 11 , 4 , 3, 2, 1 , 0])\n",
    "mi , ma = min_max(x)\n",
    "print(\"The minimum and maximum values are: \" , mi , \" , \" , ma)"
   ]
  },
  {
   "cell_type": "markdown",
   "metadata": {},
   "source": [
    "## Selection in expected Linear time\n",
    "The following code for RANDOMIZED-SELECT returns the ith smallest\n",
    "element of the array A[p . . r]. <dir>\n",
    "    * it uses the randomized partition method written earlier. \n",
    "    * i = 1 corresponds to the smallest element\n",
    "    * p is the smallest index of the subarray\n",
    "    * r is the largest INDEX of the subarray (in python this is length - 1 )"
   ]
  },
  {
   "cell_type": "code",
   "execution_count": 53,
   "metadata": {},
   "outputs": [
    {
     "name": "stdout",
     "output_type": "stream",
     "text": [
      "4\n"
     ]
    }
   ],
   "source": [
    "def randomized_select(A , p , r , i):\n",
    "    if p == r:\n",
    "        return A[p]\n",
    "    else:\n",
    "        q = randomized_partition(A , p , r)\n",
    "        k = q - p + 1\n",
    "        if i == k:       # the pivot is the answer\n",
    "            return A[q]\n",
    "        elif i <k:\n",
    "            return randomized_select(A, p, q-1, i )\n",
    "        else:\n",
    "            return randomized_select(A, q + 1, r, i-k)\n",
    "\n",
    "        # try it out           \n",
    "x = np.array([8 , 3 , 3, 4 , 5 ])\n",
    "el = randomized_select(x , 0 , 4 , 3)\n",
    "print(el)"
   ]
  },
  {
   "cell_type": "markdown",
   "metadata": {},
   "source": [
    "## Selection in worst-case linear time\n",
    "#### Select method\n",
    "The difference is this will guarentee a good partition when the split is made"
   ]
  },
  {
   "cell_type": "markdown",
   "metadata": {},
   "source": [
    "# Part III Data Structures"
   ]
  },
  {
   "cell_type": "markdown",
   "metadata": {},
   "source": [
    "## Stacks and Queues\n",
    "Stacks use the last in first out method <br>\n",
    "Queues use the first in first out method"
   ]
  },
  {
   "cell_type": "code",
   "execution_count": 195,
   "metadata": {},
   "outputs": [],
   "source": [
    "class Stack():\n",
    "    def __init__(self , size = -1): \n",
    "        # the stack takes in the maximum Number of elements for the stack array\n",
    "        # size defaults to  -1 which will never throw error (no limit)\n",
    "        self.data = np.empty(0)\n",
    "        self.top = -1\n",
    "        self.max = size \n",
    "        \n",
    "    \n",
    "    def stack_empty(self):\n",
    "        if self.top == -1:\n",
    "            return True\n",
    "        else:\n",
    "            return False\n",
    "    \n",
    "    def push(self , item):\n",
    "        if self.top != self.max - 1:\n",
    "            self.top += 1\n",
    "            self.data = np.hstack([self.data, item])\n",
    "        else:\n",
    "            err = \"stack overflow , push failed\"\n",
    "            print(err)\n",
    "    \n",
    "    def pop(self):\n",
    "        if self.stack_empty():\n",
    "            err = \"stack underflow , pop failed\"\n",
    "            print(err)\n",
    "            return None\n",
    "        else:\n",
    "            self.top -= 1\n",
    "            element = self.data[self.top + 1]\n",
    "            self.data = self.data[:-1]\n",
    "            return element"
   ]
  },
  {
   "cell_type": "code",
   "execution_count": 196,
   "metadata": {},
   "outputs": [],
   "source": [
    "s = Stack(1)\n",
    "s.push(1)\n"
   ]
  },
  {
   "cell_type": "code",
   "execution_count": 272,
   "metadata": {},
   "outputs": [],
   "source": [
    "class Queue():\n",
    "    # This queue requires a specified length\n",
    "    # in has the ability to add and remove elements from the queue while checking for\n",
    "    # underflow and overflow\n",
    "    \n",
    "    def __init__(self, size ):\n",
    "        # this queue requires that the queue is initialized with a maximum size\n",
    "        self.data = np.full((size) , None)\n",
    "        self.head = 0\n",
    "        self.tail = 0\n",
    "        self.max = size\n",
    "        \n",
    "    def enqueue(self, item):\n",
    "        # This method adds an item to the queue\n",
    "        \n",
    "        if self.data[self.tail] != None:\n",
    "            err = \"Queue overflow, could not add item\"\n",
    "            print(err)\n",
    "            return\n",
    "            \n",
    "        self.data[self.tail] = item\n",
    "        if self.tail == self.max - 1: # wraparound case\n",
    "            self.tail = 0 \n",
    "        else:\n",
    "            self.tail += 1\n",
    "        \n",
    "    def dequeue(self):\n",
    "        if self.data[self.head] == None:\n",
    "            err = \"Queue underflow, could not dequeue item\"\n",
    "            print(err)\n",
    "            return None\n",
    "        else:\n",
    "            el = self.data[self.head]\n",
    "            self.data[self.head] = None\n",
    "            if self.head == self.max -1:\n",
    "                self.head = 0\n",
    "            else:\n",
    "                self.head += 1\n",
    "            return el"
   ]
  },
  {
   "cell_type": "markdown",
   "metadata": {},
   "source": [
    "## Linked Lists\n",
    "Lists which are arranged in an order: The order is determined by pointers <br>\n",
    "Below we create a doubly linked list\n"
   ]
  },
  {
   "cell_type": "code",
   "execution_count": 289,
   "metadata": {},
   "outputs": [],
   "source": [
    "class Doubly_linked_list():\n",
    "    def __init__(self , head = None):\n",
    "        # This initializes a doubly linked list - its head argument defaults to None, which represents\n",
    "        # an empty linked list\n",
    "        self.head = head\n",
    "        self.next_key = 0\n",
    "        \n",
    "    def search(self , k):\n",
    "        # this function searches a linked list for an element with the key, k\n",
    "        x = self.head\n",
    "        while x != None and x.key != k:\n",
    "            x = x.next\n",
    "            return x\n",
    "            \n",
    "            \n",
    "    \n",
    "    def insert(self, element):\n",
    "        # This function inserts a new element as the new head\n",
    "        element.next = self.head   # set the previous head as its sucessor\n",
    "        if self.head != None: \n",
    "            self.head.prev = element   # set the element as the previous head's predecessor\n",
    "        self.head = element        # replace the previous head\n",
    "        if element.key == None:\n",
    "            element.key = self.next_key  # update the elements' key\n",
    "            self.next_key += 1           # update the sequential key\n",
    "        \n",
    "    def delete(self, x):\n",
    "        # The procedure LIST-DELETE removes an element x from a linked list L. Itmust\n",
    "        # be given a pointer to x, and it then “splices” x out of the list by updating pointers.\n",
    "        # If we wish to delete an element with a given key, we must first call LIST-SEARCH\n",
    "        # to retrieve a pointer to the element.\n",
    "        if x.prev != None:\n",
    "            x.prev.next = x.next\n",
    "        else:                          # if x is the head\n",
    "            self.head = x.next\n",
    "            \n",
    "        if x.next != None:\n",
    "            x.next.prev = x.prev\n",
    "            \n",
    "        # at this point, x is no longer in the linked list\n",
    "            \n",
    "class ll_item():\n",
    "    def __init__(self , successor = None,  predecessor = None , key = None):\n",
    "        self.next = successor\n",
    "        self.prev = predecessor\n",
    "        self.key = key"
   ]
  },
  {
   "cell_type": "markdown",
   "metadata": {},
   "source": [
    "## Representing Rooted Trees"
   ]
  },
  {
   "cell_type": "code",
   "execution_count": null,
   "metadata": {},
   "outputs": [],
   "source": []
  }
 ],
 "metadata": {
  "kernelspec": {
   "display_name": "Python 3",
   "language": "python",
   "name": "python3"
  },
  "language_info": {
   "codemirror_mode": {
    "name": "ipython",
    "version": 3
   },
   "file_extension": ".py",
   "mimetype": "text/x-python",
   "name": "python",
   "nbconvert_exporter": "python",
   "pygments_lexer": "ipython3",
   "version": "3.7.7"
  }
 },
 "nbformat": 4,
 "nbformat_minor": 4
}
